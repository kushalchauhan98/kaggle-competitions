{
  "nbformat": 4,
  "nbformat_minor": 0,
  "metadata": {
    "colab": {
      "name": "Untitled0.ipynb",
      "version": "0.3.2",
      "views": {},
      "default_view": {},
      "provenance": [],
      "collapsed_sections": []
    },
    "kernelspec": {
      "name": "python3",
      "display_name": "Python 3"
    },
    "accelerator": "GPU"
  },
  "cells": [
    {
      "metadata": {
        "id": "A2cGisS0eQVi",
        "colab_type": "code",
        "colab": {
          "autoexec": {
            "startup": false,
            "wait_interval": 0
          },
          "base_uri": "https://localhost:8080/",
          "height": 221
        },
        "outputId": "d5e2742f-973d-42e7-a5f6-3b9248f316b4",
        "executionInfo": {
          "status": "ok",
          "timestamp": 1523437142578,
          "user_tz": -330,
          "elapsed": 5206,
          "user": {
            "displayName": "Kushal Chauhan",
            "photoUrl": "//lh4.googleusercontent.com/-EhzMPZb6gTQ/AAAAAAAAAAI/AAAAAAAAHDk/-DzBUyWbk-E/s50-c-k-no/photo.jpg",
            "userId": "100716662372658252072"
          }
        }
      },
      "cell_type": "code",
      "source": [
        "!pip install kaggle"
      ],
      "execution_count": 3,
      "outputs": [
        {
          "output_type": "stream",
          "text": [
            "Collecting kaggle\n",
            "  Downloading kaggle-1.1.0.tar.gz\n",
            "Requirement already satisfied: certifi in /usr/local/lib/python3.6/dist-packages (from kaggle)\n",
            "Requirement already satisfied: python-dateutil in /usr/local/lib/python3.6/dist-packages (from kaggle)\n",
            "Requirement already satisfied: six>=1.10 in /usr/local/lib/python3.6/dist-packages (from kaggle)\n",
            "Requirement already satisfied: urllib3>=1.15 in /usr/local/lib/python3.6/dist-packages (from kaggle)\n",
            "Building wheels for collected packages: kaggle\n",
            "  Running setup.py bdist_wheel for kaggle ... \u001b[?25l-\b \b\\\b \bdone\n",
            "\u001b[?25h  Stored in directory: /content/.cache/pip/wheels/2a/cc/c6/e4c872c053261660031b4a3e35ac958725b284c6fde9ff05c8\n",
            "Successfully built kaggle\n",
            "Installing collected packages: kaggle\n",
            "Successfully installed kaggle-1.1.0\n"
          ],
          "name": "stdout"
        }
      ]
    },
    {
      "metadata": {
        "id": "Y6xAWaRxeZFs",
        "colab_type": "code",
        "colab": {
          "autoexec": {
            "startup": false,
            "wait_interval": 0
          },
          "resources": {
            "http://localhost:8080/nbextensions/google.colab/files.js": {
              "data": "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",
              "ok": true,
              "headers": [
                [
                  "content-type",
                  "application/javascript"
                ]
              ],
              "status": 200,
              "status_text": ""
            }
          },
          "base_uri": "https://localhost:8080/",
          "height": 72
        },
        "outputId": "68b1204d-9b34-4282-ab13-692376189a9f",
        "executionInfo": {
          "status": "ok",
          "timestamp": 1523437169142,
          "user_tz": -330,
          "elapsed": 24055,
          "user": {
            "displayName": "Kushal Chauhan",
            "photoUrl": "//lh4.googleusercontent.com/-EhzMPZb6gTQ/AAAAAAAAAAI/AAAAAAAAHDk/-DzBUyWbk-E/s50-c-k-no/photo.jpg",
            "userId": "100716662372658252072"
          }
        }
      },
      "cell_type": "code",
      "source": [
        "from google.colab import files\n",
        "\n",
        "uploaded = files.upload()"
      ],
      "execution_count": 4,
      "outputs": [
        {
          "output_type": "display_data",
          "data": {
            "text/html": [
              "\n",
              "     <input type=\"file\" id=\"files-fbd13702-6f93-4f78-ba77-f74714bdbcc5\" name=\"files[]\" multiple disabled />\n",
              "     <output id=\"result-fbd13702-6f93-4f78-ba77-f74714bdbcc5\">\n",
              "      Upload widget is only available when the cell has been executed in the\n",
              "      current browser session. Please rerun this cell to enable.\n",
              "      </output>\n",
              "      <script src=\"/nbextensions/google.colab/files.js\"></script> "
            ],
            "text/plain": [
              "<IPython.core.display.HTML object>"
            ]
          },
          "metadata": {
            "tags": []
          }
        },
        {
          "output_type": "stream",
          "text": [
            "Saving kaggle.json to kaggle.json\n"
          ],
          "name": "stdout"
        }
      ]
    },
    {
      "metadata": {
        "id": "gQ_nrWGLeejO",
        "colab_type": "code",
        "colab": {
          "autoexec": {
            "startup": false,
            "wait_interval": 0
          }
        }
      },
      "cell_type": "code",
      "source": [
        "!mkdir .kaggle"
      ],
      "execution_count": 0,
      "outputs": []
    },
    {
      "metadata": {
        "id": "swtY_N4dfCgl",
        "colab_type": "code",
        "colab": {
          "autoexec": {
            "startup": false,
            "wait_interval": 0
          }
        }
      },
      "cell_type": "code",
      "source": [
        "!mv kaggle.json ./.kaggle/kaggle.json"
      ],
      "execution_count": 0,
      "outputs": []
    },
    {
      "metadata": {
        "id": "R5nga1tpfJSs",
        "colab_type": "code",
        "colab": {
          "autoexec": {
            "startup": false,
            "wait_interval": 0
          },
          "base_uri": "https://localhost:8080/",
          "height": 85
        },
        "outputId": "0d010972-74d7-47dc-ad95-80c5cef9855e",
        "executionInfo": {
          "status": "ok",
          "timestamp": 1523437187798,
          "user_tz": -330,
          "elapsed": 10193,
          "user": {
            "displayName": "Kushal Chauhan",
            "photoUrl": "//lh4.googleusercontent.com/-EhzMPZb6gTQ/AAAAAAAAAAI/AAAAAAAAHDk/-DzBUyWbk-E/s50-c-k-no/photo.jpg",
            "userId": "100716662372658252072"
          }
        }
      },
      "cell_type": "code",
      "source": [
        "!kaggle competitions download -c dogs-vs-cats-redux-kernels-edition"
      ],
      "execution_count": 7,
      "outputs": [
        {
          "output_type": "stream",
          "text": [
            "Warning: Your Kaggle API key is readable by other users on this system! To fix this, you can run 'chmod 600 /content/.kaggle/kaggle.json'\n",
            "test.zip: Downloaded 271MB of 271MB\n",
            "train.zip: Downloaded 544MB of 544MB\n",
            "sample_submission.csv: Downloaded 111KB of 111KB\n"
          ],
          "name": "stdout"
        }
      ]
    },
    {
      "metadata": {
        "id": "2semilpNfuDZ",
        "colab_type": "code",
        "colab": {
          "autoexec": {
            "startup": false,
            "wait_interval": 0
          }
        }
      },
      "cell_type": "code",
      "source": [
        "!mv ./.kaggle/competitions/dogs-vs-cats-redux-kernels-edition/* ./"
      ],
      "execution_count": 0,
      "outputs": []
    },
    {
      "metadata": {
        "id": "LfTcKAiEgQIS",
        "colab_type": "code",
        "colab": {
          "autoexec": {
            "startup": false,
            "wait_interval": 0
          }
        }
      },
      "cell_type": "code",
      "source": [
        "!unzip -q test.zip"
      ],
      "execution_count": 0,
      "outputs": []
    },
    {
      "metadata": {
        "id": "BaIkN1X8iOco",
        "colab_type": "code",
        "colab": {
          "autoexec": {
            "startup": false,
            "wait_interval": 0
          }
        }
      },
      "cell_type": "code",
      "source": [
        "!unzip -q train.zip"
      ],
      "execution_count": 0,
      "outputs": []
    },
    {
      "metadata": {
        "id": "IuSAxhpSieuP",
        "colab_type": "code",
        "colab": {
          "autoexec": {
            "startup": false,
            "wait_interval": 0
          }
        }
      },
      "cell_type": "code",
      "source": [
        "import os\n",
        "train_im = os.listdir('train/')\n",
        "test_im = os.listdir('test/')"
      ],
      "execution_count": 0,
      "outputs": []
    },
    {
      "metadata": {
        "id": "cVXFEaqmijXw",
        "colab_type": "code",
        "colab": {
          "autoexec": {
            "startup": false,
            "wait_interval": 0
          }
        }
      },
      "cell_type": "code",
      "source": [
        "m_train, m_test = len(train_im), len(test_im)"
      ],
      "execution_count": 0,
      "outputs": []
    },
    {
      "metadata": {
        "id": "qZa0VRGQjI7Y",
        "colab_type": "code",
        "colab": {
          "autoexec": {
            "startup": false,
            "wait_interval": 0
          }
        }
      },
      "cell_type": "code",
      "source": [
        "import matplotlib.pyplot as plt\n",
        "%matplotlib inline"
      ],
      "execution_count": 0,
      "outputs": []
    },
    {
      "metadata": {
        "id": "ZTUFYATJjxrA",
        "colab_type": "code",
        "colab": {
          "autoexec": {
            "startup": false,
            "wait_interval": 0
          },
          "base_uri": "https://localhost:8080/",
          "height": 303
        },
        "outputId": "e0d312ae-9cff-40bf-ce2f-aef49de40b02",
        "executionInfo": {
          "status": "ok",
          "timestamp": 1523449243796,
          "user_tz": -330,
          "elapsed": 1608,
          "user": {
            "displayName": "Kushal Chauhan",
            "photoUrl": "//lh4.googleusercontent.com/-EhzMPZb6gTQ/AAAAAAAAAAI/AAAAAAAAHDk/-DzBUyWbk-E/s50-c-k-no/photo.jpg",
            "userId": "100716662372658252072"
          }
        }
      },
      "cell_type": "code",
      "source": [
        "img = plt.imread('train/cat.0.jpg')\n",
        "print(img.shape)\n",
        "plt.imshow(img)"
      ],
      "execution_count": 12,
      "outputs": [
        {
          "output_type": "stream",
          "text": [
            "(374, 500, 3)\n"
          ],
          "name": "stdout"
        },
        {
          "output_type": "execute_result",
          "data": {
            "text/plain": [
              "<matplotlib.image.AxesImage at 0x7f81475e77b8>"
            ]
          },
          "metadata": {
            "tags": []
          },
          "execution_count": 12
        },
        {
          "output_type": "display_data",
          "data": {
            "image/png": "[encoded data removed]",
            "text/plain": [
              "<matplotlib.figure.Figure at 0x7f81610e0668>"
            ]
          },
          "metadata": {
            "tags": []
          }
        }
      ]
    },
    {
      "metadata": {
        "id": "SYzzkGrSj8WI",
        "colab_type": "code",
        "colab": {
          "autoexec": {
            "startup": false,
            "wait_interval": 0
          }
        }
      },
      "cell_type": "code",
      "source": [
        "def imcrop_tosquare(img):\n",
        "    if img.shape[0] > img.shape[1]:\n",
        "        extra = (img.shape[0] - img.shape[1])\n",
        "        if extra % 2 == 0:\n",
        "            crop = img[extra // 2:-extra // 2, :]\n",
        "        else:\n",
        "            crop = img[max(0, extra // 2 + 1):min(-1, -(extra // 2)), :]\n",
        "    elif img.shape[1] > img.shape[0]:\n",
        "        extra = (img.shape[1] - img.shape[0])\n",
        "        if extra % 2 == 0:\n",
        "            crop = img[:, extra // 2:-extra // 2]\n",
        "        else:\n",
        "            crop = img[:, max(0, extra // 2 + 1):min(-1, -(extra // 2))]\n",
        "    else:\n",
        "        crop = img\n",
        "    return crop"
      ],
      "execution_count": 0,
      "outputs": []
    },
    {
      "metadata": {
        "id": "3vSXuIb3kAMQ",
        "colab_type": "code",
        "colab": {
          "autoexec": {
            "startup": false,
            "wait_interval": 0
          }
        }
      },
      "cell_type": "code",
      "source": [
        "from scipy.misc import imresize"
      ],
      "execution_count": 0,
      "outputs": []
    },
    {
      "metadata": {
        "id": "6w9T19i4kFF8",
        "colab_type": "code",
        "colab": {
          "autoexec": {
            "startup": false,
            "wait_interval": 0
          },
          "base_uri": "https://localhost:8080/",
          "height": 373
        },
        "outputId": "be4d1b38-ae78-4350-b1c9-c561bd391563",
        "executionInfo": {
          "status": "ok",
          "timestamp": 1523449248676,
          "user_tz": -330,
          "elapsed": 855,
          "user": {
            "displayName": "Kushal Chauhan",
            "photoUrl": "//lh4.googleusercontent.com/-EhzMPZb6gTQ/AAAAAAAAAAI/AAAAAAAAHDk/-DzBUyWbk-E/s50-c-k-no/photo.jpg",
            "userId": "100716662372658252072"
          }
        }
      },
      "cell_type": "code",
      "source": [
        "crop = imcrop_tosquare(img)\n",
        "rsz = imresize(crop, size=(64,64))\n",
        "plt.imshow(rsz)"
      ],
      "execution_count": 15,
      "outputs": [
        {
          "output_type": "stream",
          "text": [
            "/usr/local/lib/python3.6/dist-packages/scipy/misc/pilutil.py:482: FutureWarning: Conversion of the second argument of issubdtype from `int` to `np.signedinteger` is deprecated. In future, it will be treated as `np.int64 == np.dtype(int).type`.\n",
            "  if issubdtype(ts, int):\n",
            "/usr/local/lib/python3.6/dist-packages/scipy/misc/pilutil.py:485: FutureWarning: Conversion of the second argument of issubdtype from `float` to `np.floating` is deprecated. In future, it will be treated as `np.float64 == np.dtype(float).type`.\n",
            "  elif issubdtype(type(size), float):\n"
          ],
          "name": "stderr"
        },
        {
          "output_type": "execute_result",
          "data": {
            "text/plain": [
              "<matplotlib.image.AxesImage at 0x7f8145d5fa90>"
            ]
          },
          "metadata": {
            "tags": []
          },
          "execution_count": 15
        },
        {
          "output_type": "display_data",
          "data": {
            "image/png": "[encoded data removed]",
            "text/plain": [
              "<matplotlib.figure.Figure at 0x7f8147606278>"
            ]
          },
          "metadata": {
            "tags": []
          }
        }
      ]
    },
    {
      "metadata": {
        "id": "wbv69KY1kVyc",
        "colab_type": "code",
        "colab": {
          "autoexec": {
            "startup": false,
            "wait_interval": 0
          }
        }
      },
      "cell_type": "code",
      "source": [
        "import numpy as np"
      ],
      "execution_count": 0,
      "outputs": []
    },
    {
      "metadata": {
        "id": "5JCJw_GBlcTC",
        "colab_type": "code",
        "colab": {
          "autoexec": {
            "startup": false,
            "wait_interval": 0
          }
        }
      },
      "cell_type": "code",
      "source": [
        "X_train = []\n",
        "y_train = []\n",
        "X_test = []"
      ],
      "execution_count": 0,
      "outputs": []
    },
    {
      "metadata": {
        "id": "Hl9fCd7po0DQ",
        "colab_type": "code",
        "colab": {
          "autoexec": {
            "startup": false,
            "wait_interval": 0
          }
        }
      },
      "cell_type": "code",
      "source": [
        "im_size = 64"
      ],
      "execution_count": 0,
      "outputs": []
    },
    {
      "metadata": {
        "id": "uvC8wQ1clgUZ",
        "colab_type": "code",
        "colab": {
          "autoexec": {
            "startup": false,
            "wait_interval": 0
          },
          "base_uri": "https://localhost:8080/",
          "height": 173
        },
        "outputId": "a41d93d0-9110-4e72-b1a1-1d9c7f9d5115",
        "executionInfo": {
          "status": "ok",
          "timestamp": 1523449486238,
          "user_tz": -330,
          "elapsed": 229490,
          "user": {
            "displayName": "Kushal Chauhan",
            "photoUrl": "//lh4.googleusercontent.com/-EhzMPZb6gTQ/AAAAAAAAAAI/AAAAAAAAHDk/-DzBUyWbk-E/s50-c-k-no/photo.jpg",
            "userId": "100716662372658252072"
          }
        }
      },
      "cell_type": "code",
      "source": [
        "print('Cropping and Resizing Training Images...')\n",
        "print('Progress: ', end='')\n",
        "prog = 0\n",
        "hundreths = m_train//100\n",
        "for i in range(m_train):\n",
        "  img = plt.imread('train/'+train_im[i])\n",
        "  crop = imcrop_tosquare(img)\n",
        "  rsz = imresize(crop, size=(im_size,im_size))\n",
        "  X_train += [rsz]\n",
        "  y_train += [train_im[i][:3]]\n",
        "  if (i > prog*hundreths):\n",
        "    prog += 1\n",
        "    print(prog, end=' ')\n",
        "\n",
        "print('\\nCropping and Resizing Test Images...')\n",
        "print('Progress: ', end='')\n",
        "prog = 0\n",
        "hundreths = m_test//100\n",
        "for i in range(m_test):\n",
        "  img = plt.imread('test/'+str(i+1)+'.jpg')\n",
        "  crop = imcrop_tosquare(img)\n",
        "  rsz = imresize(crop, size=(im_size,im_size))\n",
        "  X_test += [rsz]\n",
        "  if (i > prog*hundreths):\n",
        "    prog += 1\n",
        "    print(prog, end=' ')"
      ],
      "execution_count": 19,
      "outputs": [
        {
          "output_type": "stream",
          "text": [
            "Cropping and Resizing Training Images...\n",
            "Progress: 1 "
          ],
          "name": "stdout"
        },
        {
          "output_type": "stream",
          "text": [
            "/usr/local/lib/python3.6/dist-packages/scipy/misc/pilutil.py:482: FutureWarning: Conversion of the second argument of issubdtype from `int` to `np.signedinteger` is deprecated. In future, it will be treated as `np.int64 == np.dtype(int).type`.\n",
            "  if issubdtype(ts, int):\n",
            "/usr/local/lib/python3.6/dist-packages/scipy/misc/pilutil.py:485: FutureWarning: Conversion of the second argument of issubdtype from `float` to `np.floating` is deprecated. In future, it will be treated as `np.float64 == np.dtype(float).type`.\n",
            "  elif issubdtype(type(size), float):\n"
          ],
          "name": "stderr"
        },
        {
          "output_type": "stream",
          "text": [
            "2 3 4 5 6 7 8 9 10 11 12 13 14 15 16 17 18 19 20 21 22 23 24 25 26 27 28 29 30 31 32 33 34 35 36 37 38 39 40 41 42 43 44 45 46 47 48 49 50 51 52 53 54 55 56 57 58 59 60 61 62 63 64 65 66 67 68 69 70 71 72 73 74 75 76 77 78 79 80 81 82 83 84 85 86 87 88 89 90 91 92 93 94 95 96 97 98 99 100 \n",
            "Cropping and Resizing Test Images...\n",
            "Progress: 1 2 3 4 5 6 7 8 9 10 11 12 13 14 15 16 17 18 19 20 21 22 23 24 25 26 27 28 29 30 31 32 33 34 35 36 37 38 39 40 41 42 43 44 45 46 47 48 49 50 51 52 53 54 55 56 57 58 59 60 61 62 63 64 65 66 67 68 69 70 71 72 73 74 75 76 77 78 79 80 81 82 83 84 85 86 87 88 89 90 91 92 93 94 95 96 97 98 99 100 "
          ],
          "name": "stdout"
        }
      ]
    },
    {
      "metadata": {
        "id": "BU--X_wIr4Us",
        "colab_type": "code",
        "colab": {
          "autoexec": {
            "startup": false,
            "wait_interval": 0
          }
        }
      },
      "cell_type": "code",
      "source": [
        "X_train = np.array(X_train)\n",
        "y_train = np.array(y_train)\n",
        "X_test = np.array(X_test)"
      ],
      "execution_count": 0,
      "outputs": []
    },
    {
      "metadata": {
        "id": "dZBzcDV6tcFk",
        "colab_type": "code",
        "colab": {
          "autoexec": {
            "startup": false,
            "wait_interval": 0
          }
        }
      },
      "cell_type": "code",
      "source": [
        "from sklearn.preprocessing import LabelEncoder\n",
        "from sklearn.preprocessing import StandardScaler"
      ],
      "execution_count": 0,
      "outputs": []
    },
    {
      "metadata": {
        "id": "XFgWTXsGtdux",
        "colab_type": "code",
        "colab": {
          "autoexec": {
            "startup": false,
            "wait_interval": 0
          },
          "base_uri": "https://localhost:8080/",
          "height": 34
        },
        "outputId": "95ac1d69-0e7d-4ba4-9721-30c08ef2d407",
        "executionInfo": {
          "status": "ok",
          "timestamp": 1523449534836,
          "user_tz": -330,
          "elapsed": 1088,
          "user": {
            "displayName": "Kushal Chauhan",
            "photoUrl": "//lh4.googleusercontent.com/-EhzMPZb6gTQ/AAAAAAAAAAI/AAAAAAAAHDk/-DzBUyWbk-E/s50-c-k-no/photo.jpg",
            "userId": "100716662372658252072"
          }
        }
      },
      "cell_type": "code",
      "source": [
        "LE = LabelEncoder()\n",
        "LE.fit(y_train)"
      ],
      "execution_count": 22,
      "outputs": [
        {
          "output_type": "execute_result",
          "data": {
            "text/plain": [
              "LabelEncoder()"
            ]
          },
          "metadata": {
            "tags": []
          },
          "execution_count": 22
        }
      ]
    },
    {
      "metadata": {
        "id": "ao1euD6evjPT",
        "colab_type": "code",
        "colab": {
          "autoexec": {
            "startup": false,
            "wait_interval": 0
          },
          "base_uri": "https://localhost:8080/",
          "height": 34
        },
        "outputId": "7d078b6b-f4d1-477c-db0d-a79531eea8ea",
        "executionInfo": {
          "status": "ok",
          "timestamp": 1523449536397,
          "user_tz": -330,
          "elapsed": 937,
          "user": {
            "displayName": "Kushal Chauhan",
            "photoUrl": "//lh4.googleusercontent.com/-EhzMPZb6gTQ/AAAAAAAAAAI/AAAAAAAAHDk/-DzBUyWbk-E/s50-c-k-no/photo.jpg",
            "userId": "100716662372658252072"
          }
        }
      },
      "cell_type": "code",
      "source": [
        "LE.classes_"
      ],
      "execution_count": 23,
      "outputs": [
        {
          "output_type": "execute_result",
          "data": {
            "text/plain": [
              "array(['cat', 'dog'], dtype='<U3')"
            ]
          },
          "metadata": {
            "tags": []
          },
          "execution_count": 23
        }
      ]
    },
    {
      "metadata": {
        "id": "ZA8MoZ3guIw6",
        "colab_type": "code",
        "colab": {
          "autoexec": {
            "startup": false,
            "wait_interval": 0
          },
          "base_uri": "https://localhost:8080/",
          "height": 119
        },
        "outputId": "c901f162-ef25-47ff-9d94-c05a3d41f3d0",
        "executionInfo": {
          "status": "ok",
          "timestamp": 1523449537844,
          "user_tz": -330,
          "elapsed": 870,
          "user": {
            "displayName": "Kushal Chauhan",
            "photoUrl": "//lh4.googleusercontent.com/-EhzMPZb6gTQ/AAAAAAAAAAI/AAAAAAAAHDk/-DzBUyWbk-E/s50-c-k-no/photo.jpg",
            "userId": "100716662372658252072"
          }
        }
      },
      "cell_type": "code",
      "source": [
        "y_train = LE.transform(y_train)\n",
        "y_train = np.expand_dims(y_train, 1)\n",
        "print(y_train.shape)\n",
        "print(y_train[:5])"
      ],
      "execution_count": 24,
      "outputs": [
        {
          "output_type": "stream",
          "text": [
            "(25000, 1)\n",
            "[[0]\n",
            " [1]\n",
            " [0]\n",
            " [1]\n",
            " [0]]\n"
          ],
          "name": "stdout"
        }
      ]
    },
    {
      "metadata": {
        "id": "iVCqAce4zxPq",
        "colab_type": "code",
        "colab": {
          "autoexec": {
            "startup": false,
            "wait_interval": 0
          },
          "base_uri": "https://localhost:8080/",
          "height": 105
        },
        "outputId": "35395c7f-e54e-4d4f-89e5-79b887f80b74",
        "executionInfo": {
          "status": "ok",
          "timestamp": 1523449539463,
          "user_tz": -330,
          "elapsed": 1053,
          "user": {
            "displayName": "Kushal Chauhan",
            "photoUrl": "//lh4.googleusercontent.com/-EhzMPZb6gTQ/AAAAAAAAAAI/AAAAAAAAHDk/-DzBUyWbk-E/s50-c-k-no/photo.jpg",
            "userId": "100716662372658252072"
          }
        }
      },
      "cell_type": "code",
      "source": [
        "LE.inverse_transform([[0], [1]])"
      ],
      "execution_count": 25,
      "outputs": [
        {
          "output_type": "stream",
          "text": [
            "/usr/local/lib/python3.6/dist-packages/sklearn/preprocessing/label.py:151: DeprecationWarning: The truth value of an empty array is ambiguous. Returning False, but in future this will result in an error. Use `array.size > 0` to check that an array is not empty.\n",
            "  if diff:\n"
          ],
          "name": "stderr"
        },
        {
          "output_type": "execute_result",
          "data": {
            "text/plain": [
              "array([['cat'],\n",
              "       ['dog']], dtype='<U3')"
            ]
          },
          "metadata": {
            "tags": []
          },
          "execution_count": 25
        }
      ]
    },
    {
      "metadata": {
        "id": "7l-FTvvguayb",
        "colab_type": "code",
        "colab": {
          "autoexec": {
            "startup": false,
            "wait_interval": 0
          },
          "base_uri": "https://localhost:8080/",
          "height": 88
        },
        "outputId": "47c1b345-aad7-4dca-f87e-d7c9b370e614",
        "executionInfo": {
          "status": "ok",
          "timestamp": 1523449547388,
          "user_tz": -330,
          "elapsed": 7193,
          "user": {
            "displayName": "Kushal Chauhan",
            "photoUrl": "//lh4.googleusercontent.com/-EhzMPZb6gTQ/AAAAAAAAAAI/AAAAAAAAHDk/-DzBUyWbk-E/s50-c-k-no/photo.jpg",
            "userId": "100716662372658252072"
          }
        }
      },
      "cell_type": "code",
      "source": [
        "scaler = StandardScaler()\n",
        "scaler.fit(X_train.reshape((m_train, -1)))\n"
      ],
      "execution_count": 26,
      "outputs": [
        {
          "output_type": "stream",
          "text": [
            "/usr/local/lib/python3.6/dist-packages/sklearn/utils/validation.py:475: DataConversionWarning: Data with input dtype uint8 was converted to float64 by StandardScaler.\n",
            "  warnings.warn(msg, DataConversionWarning)\n"
          ],
          "name": "stderr"
        },
        {
          "output_type": "execute_result",
          "data": {
            "text/plain": [
              "StandardScaler(copy=True, with_mean=True, with_std=True)"
            ]
          },
          "metadata": {
            "tags": []
          },
          "execution_count": 26
        }
      ]
    },
    {
      "metadata": {
        "id": "E7vb8G55vnDb",
        "colab_type": "code",
        "colab": {
          "autoexec": {
            "startup": false,
            "wait_interval": 0
          },
          "base_uri": "https://localhost:8080/",
          "height": 71
        },
        "outputId": "f0e9d0a7-d9e1-4123-b9d0-e5a4694005a4",
        "executionInfo": {
          "status": "ok",
          "timestamp": 1523449552124,
          "user_tz": -330,
          "elapsed": 4489,
          "user": {
            "displayName": "Kushal Chauhan",
            "photoUrl": "//lh4.googleusercontent.com/-EhzMPZb6gTQ/AAAAAAAAAAI/AAAAAAAAHDk/-DzBUyWbk-E/s50-c-k-no/photo.jpg",
            "userId": "100716662372658252072"
          }
        }
      },
      "cell_type": "code",
      "source": [
        "X_train = scaler.transform(X_train.reshape((m_train, -1))).reshape((m_train, im_size, im_size, 3))\n",
        "X_test = scaler.transform(X_test.reshape((m_test, -1))).reshape((m_test, im_size, im_size, 3))"
      ],
      "execution_count": 27,
      "outputs": [
        {
          "output_type": "stream",
          "text": [
            "/usr/local/lib/python3.6/dist-packages/sklearn/utils/validation.py:475: DataConversionWarning: Data with input dtype uint8 was converted to float64 by StandardScaler.\n",
            "  warnings.warn(msg, DataConversionWarning)\n"
          ],
          "name": "stderr"
        }
      ]
    },
    {
      "metadata": {
        "id": "NLq-yl_5yIhi",
        "colab_type": "code",
        "colab": {
          "autoexec": {
            "startup": false,
            "wait_interval": 0
          }
        }
      },
      "cell_type": "code",
      "source": [
        "import pickle\n",
        "file = open('SS&LE.pk', 'wb')\n",
        "pickle.dump([scaler, LE], file)\n",
        "file.close()\n",
        "files.download('SS&LE.pk')"
      ],
      "execution_count": 0,
      "outputs": []
    },
    {
      "metadata": {
        "id": "-gFPXNuPwiNy",
        "colab_type": "code",
        "colab": {
          "autoexec": {
            "startup": false,
            "wait_interval": 0
          }
        }
      },
      "cell_type": "code",
      "source": [
        "from sklearn.model_selection import train_test_split"
      ],
      "execution_count": 0,
      "outputs": []
    },
    {
      "metadata": {
        "id": "EezA85hTxwtY",
        "colab_type": "code",
        "colab": {
          "autoexec": {
            "startup": false,
            "wait_interval": 0
          }
        }
      },
      "cell_type": "code",
      "source": [
        "X_train, X_val, y_train, y_val = train_test_split(X_train, y_train, test_size=0.1, random_state=42)"
      ],
      "execution_count": 0,
      "outputs": []
    },
    {
      "metadata": {
        "id": "lF3s6PJw0MLu",
        "colab_type": "code",
        "colab": {
          "autoexec": {
            "startup": false,
            "wait_interval": 0
          },
          "base_uri": "https://localhost:8080/",
          "height": 34
        },
        "outputId": "acba4b73-da5c-4a2e-ed50-be916ba5088f",
        "executionInfo": {
          "status": "ok",
          "timestamp": 1523449558446,
          "user_tz": -330,
          "elapsed": 980,
          "user": {
            "displayName": "Kushal Chauhan",
            "photoUrl": "//lh4.googleusercontent.com/-EhzMPZb6gTQ/AAAAAAAAAAI/AAAAAAAAHDk/-DzBUyWbk-E/s50-c-k-no/photo.jpg",
            "userId": "100716662372658252072"
          }
        }
      },
      "cell_type": "code",
      "source": [
        "np.bincount(np.squeeze(y_train)), np.bincount(np.squeeze(y_val))"
      ],
      "execution_count": 30,
      "outputs": [
        {
          "output_type": "execute_result",
          "data": {
            "text/plain": [
              "(array([11235, 11265]), array([1265, 1235]))"
            ]
          },
          "metadata": {
            "tags": []
          },
          "execution_count": 30
        }
      ]
    },
    {
      "metadata": {
        "id": "4BGrp0kAybAS",
        "colab_type": "code",
        "colab": {
          "autoexec": {
            "startup": false,
            "wait_interval": 0
          }
        }
      },
      "cell_type": "code",
      "source": [
        "np.save('X_test', X_test)\n",
        "np.save('X_train', X_train)\n",
        "np.save('X_val', X_val)\n",
        "np.save('y_train', y_train)\n",
        "np.save('y_val', y_val)"
      ],
      "execution_count": 0,
      "outputs": []
    },
    {
      "metadata": {
        "id": "RQ6mzEyZ2yA9",
        "colab_type": "code",
        "colab": {
          "autoexec": {
            "startup": false,
            "wait_interval": 0
          }
        }
      },
      "cell_type": "code",
      "source": [
        "import matplotlib.pyplot as plt\n",
        "%matplotlib inline\n",
        "\n",
        "import numpy as np\n",
        "im_size = 64\n",
        "X_train = np.load('X_train.npy')\n",
        "X_val = np.load('X_val.npy')\n",
        "y_train = np.load('y_train.npy')\n",
        "y_val = np.load('y_val.npy')"
      ],
      "execution_count": 0,
      "outputs": []
    },
    {
      "metadata": {
        "id": "M6hvbsUC_bNQ",
        "colab_type": "code",
        "colab": {
          "autoexec": {
            "startup": false,
            "wait_interval": 0
          },
          "base_uri": "https://localhost:8080/",
          "height": 34
        },
        "outputId": "9aba7359-cc8f-47f2-8179-a61c177876c9",
        "executionInfo": {
          "status": "ok",
          "timestamp": 1523437923437,
          "user_tz": -330,
          "elapsed": 9067,
          "user": {
            "displayName": "Kushal Chauhan",
            "photoUrl": "//lh4.googleusercontent.com/-EhzMPZb6gTQ/AAAAAAAAAAI/AAAAAAAAHDk/-DzBUyWbk-E/s50-c-k-no/photo.jpg",
            "userId": "100716662372658252072"
          }
        }
      },
      "cell_type": "code",
      "source": [
        "from keras.models import Sequential\n",
        "from keras.layers import Dense, Dropout, Flatten, BatchNormalization\n",
        "from keras.layers import Conv2D, MaxPooling2D\n",
        "from keras.optimizers import Adam\n",
        "from keras.regularizers import l2"
      ],
      "execution_count": 2,
      "outputs": [
        {
          "output_type": "stream",
          "text": [
            "Using TensorFlow backend.\n"
          ],
          "name": "stderr"
        }
      ]
    },
    {
      "metadata": {
        "id": "BuOj9LyMDtLi",
        "colab_type": "code",
        "colab": {
          "autoexec": {
            "startup": false,
            "wait_interval": 0
          },
          "base_uri": "https://localhost:8080/",
          "height": 1788
        },
        "outputId": "758d98e8-9094-466b-d782-f0814879e487",
        "executionInfo": {
          "status": "ok",
          "timestamp": 1523443485709,
          "user_tz": -330,
          "elapsed": 5560909,
          "user": {
            "displayName": "Kushal Chauhan",
            "photoUrl": "//lh4.googleusercontent.com/-EhzMPZb6gTQ/AAAAAAAAAAI/AAAAAAAAHDk/-DzBUyWbk-E/s50-c-k-no/photo.jpg",
            "userId": "100716662372658252072"
          }
        }
      },
      "cell_type": "code",
      "source": [
        "conv1 = Conv2D(32, (3, 3), activation='relu', input_shape=(im_size, im_size, 3), padding='same')\n",
        "batnorm1 = BatchNormalization()\n",
        "dropout1 = Dropout(0.5)\n",
        "conv2 = Conv2D(32, (3, 3), activation='relu', strides=2, padding='same')\n",
        "batnorm2 = BatchNormalization()\n",
        "dropout2 = Dropout(0.5)\n",
        "\n",
        "conv3 = Conv2D(64, (5, 5), activation='relu', padding='same')\n",
        "batnorm3 = BatchNormalization()\n",
        "dropout3 = Dropout(0.5)\n",
        "conv4 = Conv2D(64, (5, 5), activation='relu', strides=2, padding='same')\n",
        "batnorm4 = BatchNormalization()\n",
        "dropout4 = Dropout(0.5)\n",
        "\n",
        "conv5 = Conv2D(128, (5, 5), activation='relu', padding='same')\n",
        "batnorm5 = BatchNormalization()\n",
        "dropout5 = Dropout(0.5)\n",
        "conv6 = Conv2D(128, (5, 5), activation='relu', strides=2, padding='same')\n",
        "batnorm6 = BatchNormalization()\n",
        "dropout6 = Dropout(0.5)\n",
        "\n",
        "conv7 = Conv2D(256, (5, 5), activation='relu', padding='same')\n",
        "batnorm7 = BatchNormalization()\n",
        "dropout7 = Dropout(0.5)\n",
        "conv8 = Conv2D(256, (5, 5), activation='relu', strides=2, padding='same')\n",
        "batnorm8 = BatchNormalization()\n",
        "dropout8 = Dropout(0.5)\n",
        "\n",
        "conv9 = Conv2D(512, (5, 5), activation='relu', padding='same')\n",
        "batnorm9 = BatchNormalization()\n",
        "dropout9 = Dropout(0.5)\n",
        "conv10 = Conv2D(512, (5, 5), activation='relu', strides=2, padding='same')\n",
        "batnorm10 = BatchNormalization()\n",
        "dropout10 = Dropout(0.5)\n",
        "\n",
        "flat = Flatten()\n",
        "\n",
        "# dense1 = Dense(8192, activation='relu')\n",
        "# dropout1 = Dropout(0.5)\n",
        "\n",
        "# dense2 = Dense(1024, activation='relu')\n",
        "# dropout2 = Dropout(0.5)\n",
        "\n",
        "# dense3 = Dense(128, activation='relu')\n",
        "# dropout3 = Dropout(0.5)\n",
        "\n",
        "dense = Dense(1, activation='sigmoid')\n",
        "\n",
        "\n",
        "lyrs = [conv1, batnorm1, dropout1, conv2, batnorm2, dropout2, \\\n",
        "        conv3, batnorm3, dropout3, conv4, batnorm4, dropout4, \\\n",
        "        conv5, batnorm5, dropout5, conv6, batnorm6, dropout6, \\\n",
        "        conv7, batnorm7, dropout7, conv8, batnorm8, dropout8, \\\n",
        "        conv9, batnorm9, dropout9, conv10, batnorm10, dropout10, \\\n",
        "#         flat, dense1, dropout1, dense2, dropout2, dense3, dropout3,\\\n",
        "        flat, dense]\n",
        "model = Sequential(lyrs)\n",
        "\n",
        "opt = Adam(1e-3)\n",
        "model.compile(loss='binary_crossentropy',\n",
        "              optimizer=opt, metrics=['binary_accuracy'])\n",
        "\n",
        "history = model.fit(X_train, y_train, batch_size=32, epochs=50, \\\n",
        "          validation_data=(X_val, y_val))\n",
        "val_loss, val_accuracy = model.evaluate(X_val, y_val, batch_size=32)\n",
        "print('Validation Loss:', val_loss, '\\tValidation Accuracy:', val_accuracy)\n"
      ],
      "execution_count": 3,
      "outputs": [
        {
          "output_type": "stream",
          "text": [
            "Train on 22500 samples, validate on 2500 samples\n",
            "Epoch 1/50\n",
            "20416/22500 [==========================>...] - ETA: 10s - loss: 0.9213 - binary_accuracy: 0.5522"
          ],
          "name": "stdout"
        },
        {
          "output_type": "stream",
          "text": [
            "22500/22500 [==============================] - 112s 5ms/step - loss: 0.9008 - binary_accuracy: 0.5584 - val_loss: 0.6985 - val_binary_accuracy: 0.5916\n",
            "Epoch 2/50\n",
            "11552/22500 [==============>...............] - ETA: 51s - loss: 0.6970 - binary_accuracy: 0.6239"
          ],
          "name": "stdout"
        },
        {
          "output_type": "stream",
          "text": [
            "22500/22500 [==============================] - 109s 5ms/step - loss: 0.6904 - binary_accuracy: 0.6343 - val_loss: 0.9115 - val_binary_accuracy: 0.5100\n",
            "Epoch 3/50\n",
            " 8256/22500 [==========>...................] - ETA: 1:07 - loss: 0.6603 - binary_accuracy: 0.6581"
          ],
          "name": "stdout"
        },
        {
          "output_type": "stream",
          "text": [
            "22500/22500 [==============================] - 109s 5ms/step - loss: 0.6328 - binary_accuracy: 0.6717 - val_loss: 2.9597 - val_binary_accuracy: 0.5680\n",
            "Epoch 4/50\n",
            " 7040/22500 [========>.....................] - ETA: 1:13 - loss: 0.6021 - binary_accuracy: 0.7000"
          ],
          "name": "stdout"
        },
        {
          "output_type": "stream",
          "text": [
            "22500/22500 [==============================] - 109s 5ms/step - loss: 0.6000 - binary_accuracy: 0.7000 - val_loss: 1.7283 - val_binary_accuracy: 0.5860\n",
            "Epoch 5/50\n",
            " 6592/22500 [=======>......................] - ETA: 1:15 - loss: 0.5978 - binary_accuracy: 0.7054"
          ],
          "name": "stdout"
        },
        {
          "output_type": "stream",
          "text": [
            "22500/22500 [==============================] - 109s 5ms/step - loss: 0.5766 - binary_accuracy: 0.7188 - val_loss: 0.5885 - val_binary_accuracy: 0.7056\n",
            "Epoch 6/50\n",
            " 6400/22500 [=======>......................] - ETA: 1:16 - loss: 0.5555 - binary_accuracy: 0.7306"
          ],
          "name": "stdout"
        },
        {
          "output_type": "stream",
          "text": [
            "22500/22500 [==============================] - 110s 5ms/step - loss: 0.5458 - binary_accuracy: 0.7352 - val_loss: 0.7739 - val_binary_accuracy: 0.6972\n",
            "Epoch 7/50\n",
            " 6336/22500 [=======>......................] - ETA: 1:16 - loss: 0.5273 - binary_accuracy: 0.7472"
          ],
          "name": "stdout"
        },
        {
          "output_type": "stream",
          "text": [
            "22500/22500 [==============================] - 109s 5ms/step - loss: 0.5205 - binary_accuracy: 0.7519 - val_loss: 0.6204 - val_binary_accuracy: 0.7332\n",
            "Epoch 8/50\n",
            " 6304/22500 [=======>......................] - ETA: 1:16 - loss: 0.4862 - binary_accuracy: 0.7768"
          ],
          "name": "stdout"
        },
        {
          "output_type": "stream",
          "text": [
            "22500/22500 [==============================] - 110s 5ms/step - loss: 0.4952 - binary_accuracy: 0.7724 - val_loss: 0.5851 - val_binary_accuracy: 0.7532\n",
            "Epoch 9/50\n",
            " 6304/22500 [=======>......................] - ETA: 1:16 - loss: 0.4970 - binary_accuracy: 0.7755"
          ],
          "name": "stdout"
        },
        {
          "output_type": "stream",
          "text": [
            "22500/22500 [==============================] - 110s 5ms/step - loss: 0.4581 - binary_accuracy: 0.7915 - val_loss: 0.4409 - val_binary_accuracy: 0.7972\n",
            "Epoch 10/50\n",
            " 6272/22500 [=======>......................] - ETA: 1:18 - loss: 0.4222 - binary_accuracy: 0.8111"
          ],
          "name": "stdout"
        },
        {
          "output_type": "stream",
          "text": [
            "22500/22500 [==============================] - 112s 5ms/step - loss: 0.4163 - binary_accuracy: 0.8128 - val_loss: 0.4090 - val_binary_accuracy: 0.8364\n",
            "Epoch 11/50\n",
            " 6272/22500 [=======>......................] - ETA: 1:18 - loss: 0.3864 - binary_accuracy: 0.8278"
          ],
          "name": "stdout"
        },
        {
          "output_type": "stream",
          "text": [
            "22500/22500 [==============================] - 112s 5ms/step - loss: 0.3860 - binary_accuracy: 0.8266 - val_loss: 0.6074 - val_binary_accuracy: 0.7576\n",
            "Epoch 12/50\n",
            " 6272/22500 [=======>......................] - ETA: 1:18 - loss: 0.3714 - binary_accuracy: 0.8351"
          ],
          "name": "stdout"
        },
        {
          "output_type": "stream",
          "text": [
            "22500/22500 [==============================] - 112s 5ms/step - loss: 0.3592 - binary_accuracy: 0.8431 - val_loss: 0.3633 - val_binary_accuracy: 0.8488\n",
            "Epoch 13/50\n",
            " 6272/22500 [=======>......................] - ETA: 1:18 - loss: 0.3405 - binary_accuracy: 0.8487"
          ],
          "name": "stdout"
        },
        {
          "output_type": "stream",
          "text": [
            "22500/22500 [==============================] - 111s 5ms/step - loss: 0.3326 - binary_accuracy: 0.8541 - val_loss: 0.5473 - val_binary_accuracy: 0.8048\n",
            "Epoch 14/50\n",
            " 6272/22500 [=======>......................] - ETA: 1:18 - loss: 0.3260 - binary_accuracy: 0.8602"
          ],
          "name": "stdout"
        },
        {
          "output_type": "stream",
          "text": [
            "22500/22500 [==============================] - 111s 5ms/step - loss: 0.3178 - binary_accuracy: 0.8644 - val_loss: 0.3609 - val_binary_accuracy: 0.8676\n",
            "Epoch 15/50\n",
            " 6272/22500 [=======>......................] - ETA: 1:18 - loss: 0.3044 - binary_accuracy: 0.8689"
          ],
          "name": "stdout"
        },
        {
          "output_type": "stream",
          "text": [
            "22500/22500 [==============================] - 111s 5ms/step - loss: 0.3021 - binary_accuracy: 0.8715 - val_loss: 0.2578 - val_binary_accuracy: 0.8932\n",
            "Epoch 16/50\n",
            " 6272/22500 [=======>......................] - ETA: 1:18 - loss: 0.2828 - binary_accuracy: 0.8791"
          ],
          "name": "stdout"
        },
        {
          "output_type": "stream",
          "text": [
            "22500/22500 [==============================] - 111s 5ms/step - loss: 0.2836 - binary_accuracy: 0.8814 - val_loss: 0.3194 - val_binary_accuracy: 0.8492\n",
            "Epoch 17/50\n",
            " 6272/22500 [=======>......................] - ETA: 1:18 - loss: 0.2753 - binary_accuracy: 0.8790"
          ],
          "name": "stdout"
        },
        {
          "output_type": "stream",
          "text": [
            "22500/22500 [==============================] - 111s 5ms/step - loss: 0.2738 - binary_accuracy: 0.8821 - val_loss: 0.2647 - val_binary_accuracy: 0.8884\n",
            "Epoch 18/50\n",
            " 6272/22500 [=======>......................] - ETA: 1:18 - loss: 0.2571 - binary_accuracy: 0.8908"
          ],
          "name": "stdout"
        },
        {
          "output_type": "stream",
          "text": [
            "22500/22500 [==============================] - 111s 5ms/step - loss: 0.2586 - binary_accuracy: 0.8905 - val_loss: 0.2342 - val_binary_accuracy: 0.9020\n",
            "Epoch 19/50\n",
            " 6272/22500 [=======>......................] - ETA: 1:18 - loss: 0.2380 - binary_accuracy: 0.9043"
          ],
          "name": "stdout"
        },
        {
          "output_type": "stream",
          "text": [
            "22500/22500 [==============================] - 111s 5ms/step - loss: 0.2535 - binary_accuracy: 0.8949 - val_loss: 0.2441 - val_binary_accuracy: 0.8992\n",
            "Epoch 20/50\n",
            " 6272/22500 [=======>......................] - ETA: 1:18 - loss: 0.2502 - binary_accuracy: 0.8933"
          ],
          "name": "stdout"
        },
        {
          "output_type": "stream",
          "text": [
            "22500/22500 [==============================] - 111s 5ms/step - loss: 0.2457 - binary_accuracy: 0.8977 - val_loss: 0.2308 - val_binary_accuracy: 0.9036\n",
            "Epoch 21/50\n",
            " 6272/22500 [=======>......................] - ETA: 1:18 - loss: 0.2309 - binary_accuracy: 0.9062"
          ],
          "name": "stdout"
        },
        {
          "output_type": "stream",
          "text": [
            "22500/22500 [==============================] - 111s 5ms/step - loss: 0.2337 - binary_accuracy: 0.9037 - val_loss: 0.3734 - val_binary_accuracy: 0.8596\n",
            "Epoch 22/50\n",
            " 6272/22500 [=======>......................] - ETA: 1:18 - loss: 0.2238 - binary_accuracy: 0.9074"
          ],
          "name": "stdout"
        },
        {
          "output_type": "stream",
          "text": [
            "22500/22500 [==============================] - 111s 5ms/step - loss: 0.2285 - binary_accuracy: 0.9043 - val_loss: 0.2135 - val_binary_accuracy: 0.9148\n",
            "Epoch 23/50\n",
            " 6272/22500 [=======>......................] - ETA: 1:18 - loss: 0.2134 - binary_accuracy: 0.9106"
          ],
          "name": "stdout"
        },
        {
          "output_type": "stream",
          "text": [
            "22500/22500 [==============================] - 112s 5ms/step - loss: 0.2168 - binary_accuracy: 0.9086 - val_loss: 0.2364 - val_binary_accuracy: 0.9028\n",
            "Epoch 24/50\n",
            " 6272/22500 [=======>......................] - ETA: 1:18 - loss: 0.2151 - binary_accuracy: 0.9121"
          ],
          "name": "stdout"
        },
        {
          "output_type": "stream",
          "text": [
            "22500/22500 [==============================] - 111s 5ms/step - loss: 0.2114 - binary_accuracy: 0.9136 - val_loss: 0.2212 - val_binary_accuracy: 0.9060\n",
            "Epoch 25/50\n",
            " 6272/22500 [=======>......................] - ETA: 1:18 - loss: 0.2108 - binary_accuracy: 0.9123"
          ],
          "name": "stdout"
        },
        {
          "output_type": "stream",
          "text": [
            "22500/22500 [==============================] - 111s 5ms/step - loss: 0.2042 - binary_accuracy: 0.9163 - val_loss: 0.2568 - val_binary_accuracy: 0.8932\n",
            "Epoch 26/50\n",
            " 6272/22500 [=======>......................] - ETA: 1:18 - loss: 0.3815 - binary_accuracy: 0.8447"
          ],
          "name": "stdout"
        },
        {
          "output_type": "stream",
          "text": [
            "22500/22500 [==============================] - 111s 5ms/step - loss: 0.2614 - binary_accuracy: 0.8932 - val_loss: 0.2341 - val_binary_accuracy: 0.8976\n",
            "Epoch 27/50\n",
            " 6272/22500 [=======>......................] - ETA: 1:18 - loss: 0.1936 - binary_accuracy: 0.9219"
          ],
          "name": "stdout"
        },
        {
          "output_type": "stream",
          "text": [
            "22500/22500 [==============================] - 111s 5ms/step - loss: 0.1928 - binary_accuracy: 0.9204 - val_loss: 0.2322 - val_binary_accuracy: 0.9072\n",
            "Epoch 28/50\n",
            " 6272/22500 [=======>......................] - ETA: 1:18 - loss: 0.1920 - binary_accuracy: 0.9211"
          ],
          "name": "stdout"
        },
        {
          "output_type": "stream",
          "text": [
            "22500/22500 [==============================] - 111s 5ms/step - loss: 0.1895 - binary_accuracy: 0.9233 - val_loss: 0.2257 - val_binary_accuracy: 0.9068\n",
            "Epoch 29/50\n",
            " 6272/22500 [=======>......................] - ETA: 1:18 - loss: 0.2803 - binary_accuracy: 0.8801"
          ],
          "name": "stdout"
        },
        {
          "output_type": "stream",
          "text": [
            "22500/22500 [==============================] - 112s 5ms/step - loss: 0.2182 - binary_accuracy: 0.9077 - val_loss: 0.2282 - val_binary_accuracy: 0.9120\n",
            "Epoch 30/50\n",
            " 6272/22500 [=======>......................] - ETA: 1:18 - loss: 0.1770 - binary_accuracy: 0.9302"
          ],
          "name": "stdout"
        },
        {
          "output_type": "stream",
          "text": [
            "22500/22500 [==============================] - 111s 5ms/step - loss: 0.1813 - binary_accuracy: 0.9249 - val_loss: 0.2065 - val_binary_accuracy: 0.9092\n",
            "Epoch 31/50\n",
            " 6272/22500 [=======>......................] - ETA: 1:18 - loss: 0.1721 - binary_accuracy: 0.9298"
          ],
          "name": "stdout"
        },
        {
          "output_type": "stream",
          "text": [
            "22500/22500 [==============================] - 111s 5ms/step - loss: 0.1748 - binary_accuracy: 0.9282 - val_loss: 0.1926 - val_binary_accuracy: 0.9212\n",
            "Epoch 32/50\n",
            " 6272/22500 [=======>......................] - ETA: 1:18 - loss: 0.1750 - binary_accuracy: 0.9290"
          ],
          "name": "stdout"
        },
        {
          "output_type": "stream",
          "text": [
            "22500/22500 [==============================] - 111s 5ms/step - loss: 0.1756 - binary_accuracy: 0.9281 - val_loss: 0.2623 - val_binary_accuracy: 0.8836\n",
            "Epoch 33/50\n",
            " 6272/22500 [=======>......................] - ETA: 1:18 - loss: 0.2268 - binary_accuracy: 0.9029"
          ],
          "name": "stdout"
        },
        {
          "output_type": "stream",
          "text": [
            "22500/22500 [==============================] - 111s 5ms/step - loss: 0.1945 - binary_accuracy: 0.9192 - val_loss: 0.2020 - val_binary_accuracy: 0.9172\n",
            "Epoch 34/50\n",
            " 6272/22500 [=======>......................] - ETA: 1:18 - loss: 0.1607 - binary_accuracy: 0.9367"
          ],
          "name": "stdout"
        },
        {
          "output_type": "stream",
          "text": [
            "22500/22500 [==============================] - 111s 5ms/step - loss: 0.1611 - binary_accuracy: 0.9336 - val_loss: 0.2145 - val_binary_accuracy: 0.9172\n",
            "Epoch 35/50\n",
            " 6272/22500 [=======>......................] - ETA: 1:18 - loss: 0.1580 - binary_accuracy: 0.9357"
          ],
          "name": "stdout"
        },
        {
          "output_type": "stream",
          "text": [
            "22500/22500 [==============================] - 111s 5ms/step - loss: 0.1630 - binary_accuracy: 0.9344 - val_loss: 0.2067 - val_binary_accuracy: 0.9164\n",
            "Epoch 36/50\n",
            " 6272/22500 [=======>......................] - ETA: 1:18 - loss: 0.1636 - binary_accuracy: 0.9321"
          ],
          "name": "stdout"
        },
        {
          "output_type": "stream",
          "text": [
            "22500/22500 [==============================] - 111s 5ms/step - loss: 0.1594 - binary_accuracy: 0.9338 - val_loss: 0.1962 - val_binary_accuracy: 0.9220\n",
            "Epoch 37/50\n",
            " 6272/22500 [=======>......................] - ETA: 1:18 - loss: 0.1465 - binary_accuracy: 0.9407"
          ],
          "name": "stdout"
        },
        {
          "output_type": "stream",
          "text": [
            "22500/22500 [==============================] - 111s 5ms/step - loss: 0.1565 - binary_accuracy: 0.9353 - val_loss: 0.2048 - val_binary_accuracy: 0.9204\n",
            "Epoch 38/50\n",
            " 6272/22500 [=======>......................] - ETA: 1:18 - loss: 0.1836 - binary_accuracy: 0.9287"
          ],
          "name": "stdout"
        },
        {
          "output_type": "stream",
          "text": [
            "22500/22500 [==============================] - 111s 5ms/step - loss: 0.1640 - binary_accuracy: 0.9345 - val_loss: 0.2020 - val_binary_accuracy: 0.9232\n",
            "Epoch 39/50\n",
            " 6272/22500 [=======>......................] - ETA: 1:18 - loss: 0.1410 - binary_accuracy: 0.9472"
          ],
          "name": "stdout"
        },
        {
          "output_type": "stream",
          "text": [
            "22500/22500 [==============================] - 111s 5ms/step - loss: 0.1480 - binary_accuracy: 0.9401 - val_loss: 0.2320 - val_binary_accuracy: 0.9084\n",
            "Epoch 40/50\n",
            " 6272/22500 [=======>......................] - ETA: 1:18 - loss: 0.1665 - binary_accuracy: 0.9351"
          ],
          "name": "stdout"
        },
        {
          "output_type": "stream",
          "text": [
            "22500/22500 [==============================] - 111s 5ms/step - loss: 0.1514 - binary_accuracy: 0.9391 - val_loss: 0.1970 - val_binary_accuracy: 0.9240\n",
            "Epoch 41/50\n",
            " 6272/22500 [=======>......................] - ETA: 1:18 - loss: 0.1364 - binary_accuracy: 0.9452"
          ],
          "name": "stdout"
        },
        {
          "output_type": "stream",
          "text": [
            "22500/22500 [==============================] - 111s 5ms/step - loss: 0.1380 - binary_accuracy: 0.9439 - val_loss: 0.2023 - val_binary_accuracy: 0.9256\n",
            "Epoch 42/50\n",
            " 6272/22500 [=======>......................] - ETA: 1:18 - loss: 0.1342 - binary_accuracy: 0.9496"
          ],
          "name": "stdout"
        },
        {
          "output_type": "stream",
          "text": [
            "22500/22500 [==============================] - 111s 5ms/step - loss: 0.1366 - binary_accuracy: 0.9454 - val_loss: 0.2143 - val_binary_accuracy: 0.9168\n",
            "Epoch 43/50\n",
            " 6272/22500 [=======>......................] - ETA: 1:18 - loss: 0.2069 - binary_accuracy: 0.9166"
          ],
          "name": "stdout"
        },
        {
          "output_type": "stream",
          "text": [
            "22500/22500 [==============================] - 111s 5ms/step - loss: 0.1588 - binary_accuracy: 0.9364 - val_loss: 0.2171 - val_binary_accuracy: 0.9140\n",
            "Epoch 44/50\n",
            " 6272/22500 [=======>......................] - ETA: 1:18 - loss: 0.1325 - binary_accuracy: 0.9493"
          ],
          "name": "stdout"
        },
        {
          "output_type": "stream",
          "text": [
            "22500/22500 [==============================] - 111s 5ms/step - loss: 0.1302 - binary_accuracy: 0.9474 - val_loss: 0.2273 - val_binary_accuracy: 0.9116\n",
            "Epoch 45/50\n",
            " 6272/22500 [=======>......................] - ETA: 1:18 - loss: 0.1190 - binary_accuracy: 0.9536"
          ],
          "name": "stdout"
        },
        {
          "output_type": "stream",
          "text": [
            "22500/22500 [==============================] - 112s 5ms/step - loss: 0.1307 - binary_accuracy: 0.9482 - val_loss: 0.2311 - val_binary_accuracy: 0.9168\n",
            "Epoch 46/50\n",
            " 6272/22500 [=======>......................] - ETA: 1:18 - loss: 0.1149 - binary_accuracy: 0.9547"
          ],
          "name": "stdout"
        },
        {
          "output_type": "stream",
          "text": [
            "22500/22500 [==============================] - 112s 5ms/step - loss: 0.1253 - binary_accuracy: 0.9492 - val_loss: 0.2058 - val_binary_accuracy: 0.9208\n",
            "Epoch 47/50\n",
            " 6272/22500 [=======>......................] - ETA: 1:18 - loss: 0.1198 - binary_accuracy: 0.9523"
          ],
          "name": "stdout"
        },
        {
          "output_type": "stream",
          "text": [
            "22500/22500 [==============================] - 112s 5ms/step - loss: 0.1255 - binary_accuracy: 0.9506 - val_loss: 0.2062 - val_binary_accuracy: 0.9216\n",
            "Epoch 48/50\n",
            " 6272/22500 [=======>......................] - ETA: 1:18 - loss: 0.1303 - binary_accuracy: 0.9493"
          ],
          "name": "stdout"
        },
        {
          "output_type": "stream",
          "text": [
            "22500/22500 [==============================] - 112s 5ms/step - loss: 0.1211 - binary_accuracy: 0.9536 - val_loss: 0.2283 - val_binary_accuracy: 0.9200\n",
            "Epoch 49/50\n",
            " 6272/22500 [=======>......................] - ETA: 1:18 - loss: 0.1163 - binary_accuracy: 0.9509"
          ],
          "name": "stdout"
        },
        {
          "output_type": "stream",
          "text": [
            "22500/22500 [==============================] - 111s 5ms/step - loss: 0.1211 - binary_accuracy: 0.9513 - val_loss: 0.2473 - val_binary_accuracy: 0.9160\n",
            "Epoch 50/50\n",
            " 6272/22500 [=======>......................] - ETA: 1:18 - loss: 0.2892 - binary_accuracy: 0.8825"
          ],
          "name": "stdout"
        },
        {
          "output_type": "stream",
          "text": [
            "22500/22500 [==============================] - 111s 5ms/step - loss: 0.1810 - binary_accuracy: 0.9262 - val_loss: 0.2370 - val_binary_accuracy: 0.9160\n",
            "2500/2500 [==============================] - 3s 1ms/step\n",
            "Validation Loss: 0.23704095425605773 \tValidation Accuracy: 0.916\n"
          ],
          "name": "stdout"
        }
      ]
    },
    {
      "metadata": {
        "id": "xwjDbHhUI29_",
        "colab_type": "code",
        "colab": {
          "autoexec": {
            "startup": false,
            "wait_interval": 0
          },
          "base_uri": "https://localhost:8080/",
          "height": 34
        },
        "outputId": "d465426a-d358-49bd-9f68-9bc5b5922f21",
        "executionInfo": {
          "status": "ok",
          "timestamp": 1523282350781,
          "user_tz": -330,
          "elapsed": 945,
          "user": {
            "displayName": "Kushal Chauhan",
            "photoUrl": "//lh4.googleusercontent.com/-EhzMPZb6gTQ/AAAAAAAAAAI/AAAAAAAAHDk/-DzBUyWbk-E/s50-c-k-no/photo.jpg",
            "userId": "100716662372658252072"
          }
        }
      },
      "cell_type": "code",
      "source": [
        "   history.history.keys()"
      ],
      "execution_count": 66,
      "outputs": [
        {
          "output_type": "execute_result",
          "data": {
            "text/plain": [
              "dict_keys(['val_loss', 'val_binary_accuracy', 'loss', 'binary_accuracy'])"
            ]
          },
          "metadata": {
            "tags": []
          },
          "execution_count": 66
        }
      ]
    },
    {
      "metadata": {
        "id": "8zA7yUe8KA9B",
        "colab_type": "code",
        "colab": {
          "autoexec": {
            "startup": false,
            "wait_interval": 0
          },
          "base_uri": "https://localhost:8080/",
          "height": 457
        },
        "outputId": "301d4a19-b205-4e48-aacd-22e797943321",
        "executionInfo": {
          "status": "ok",
          "timestamp": 1523446721289,
          "user_tz": -330,
          "elapsed": 2257,
          "user": {
            "displayName": "Kushal Chauhan",
            "photoUrl": "//lh4.googleusercontent.com/-EhzMPZb6gTQ/AAAAAAAAAAI/AAAAAAAAHDk/-DzBUyWbk-E/s50-c-k-no/photo.jpg",
            "userId": "100716662372658252072"
          }
        }
      },
      "cell_type": "code",
      "source": [
        "plt.figure(figsize=(20,7))\n",
        "plt.subplot(1, 2, 1)\n",
        "plt.plot(history.history['loss'], 'ro-', label='train')\n",
        "plt.plot(history.history['val_loss'], 'bo-', label='val')\n",
        "plt.xlabel('No. of Epochs')\n",
        "plt.ylabel('Loss')\n",
        "plt.title('Model Loss')\n",
        "plt.legend()\n",
        "\n",
        "plt.subplot(1, 2, 2)\n",
        "plt.plot(history.history['binary_accuracy'], 'ro-',label='train')\n",
        "plt.plot(history.history['val_binary_accuracy'], 'bo-', label='val')\n",
        "plt.xlabel('No. of Epochs')\n",
        "plt.ylabel('Accuracy')\n",
        "plt.title('Model Accuracy')\n",
        "plt.legend()\n",
        "plt.show()\n"
      ],
      "execution_count": 4,
      "outputs": [
        {
          "output_type": "display_data",
          "data": {
            "image/png": "[encoded data removed]",
            "text/plain": [
              "<matplotlib.figure.Figure at 0x7f8162583c50>"
            ]
          },
          "metadata": {
            "tags": []
          }
        }
      ]
    },
    {
      "metadata": {
        "id": "AZLtGMnQsaOn",
        "colab_type": "code",
        "colab": {
          "autoexec": {
            "startup": false,
            "wait_interval": 0
          },
          "base_uri": "https://localhost:8080/",
          "height": 34
        },
        "outputId": "749ab695-0bd2-4e3c-e803-fc0b3edcb1ce",
        "executionInfo": {
          "status": "ok",
          "timestamp": 1523448984942,
          "user_tz": -330,
          "elapsed": 1530,
          "user": {
            "displayName": "Kushal Chauhan",
            "photoUrl": "//lh4.googleusercontent.com/-EhzMPZb6gTQ/AAAAAAAAAAI/AAAAAAAAHDk/-DzBUyWbk-E/s50-c-k-no/photo.jpg",
            "userId": "100716662372658252072"
          }
        }
      },
      "cell_type": "code",
      "source": [
        "model_json = model.to_json()\n",
        "with open(\"model.json\", \"w\") as json_file:\n",
        "    json_file.write(model_json)\n",
        "model.save_weights(\"model.h5\")\n",
        "print(\"Saved model to disk\")"
      ],
      "execution_count": 5,
      "outputs": [
        {
          "output_type": "stream",
          "text": [
            "Saved model to disk\n"
          ],
          "name": "stdout"
        }
      ]
    },
    {
      "metadata": {
        "id": "YTUtaJJWxiRN",
        "colab_type": "code",
        "colab": {
          "autoexec": {
            "startup": false,
            "wait_interval": 0
          }
        }
      },
      "cell_type": "code",
      "source": [
        "from google.colab import files\n",
        "files.download('model.json')\n",
        "files.download('model.h5')"
      ],
      "execution_count": 0,
      "outputs": []
    },
    {
      "metadata": {
        "id": "4WjvwhJQqXW1",
        "colab_type": "code",
        "colab": {
          "autoexec": {
            "startup": false,
            "wait_interval": 0
          }
        }
      },
      "cell_type": "code",
      "source": [
        "son_file = open('model.json', 'r')\n",
        "loaded_model_json = json_file.read()\n",
        "json_file.close()\n",
        "model = model_from_json(loaded_model_json)\n",
        "model.load_weights(\"model.h5\")\n",
        "print(\"Loaded model from disk\")"
      ],
      "execution_count": 0,
      "outputs": []
    },
    {
      "metadata": {
        "id": "xBtt8_kkoq5s",
        "colab_type": "code",
        "colab": {
          "autoexec": {
            "startup": false,
            "wait_interval": 0
          }
        }
      },
      "cell_type": "code",
      "source": [
        "import pandas as pd"
      ],
      "execution_count": 0,
      "outputs": []
    },
    {
      "metadata": {
        "id": "Ed_Z42bzz2_T",
        "colab_type": "code",
        "colab": {
          "autoexec": {
            "startup": false,
            "wait_interval": 0
          }
        }
      },
      "cell_type": "code",
      "source": [
        "sample = pd.read_csv('./sample_submission.csv')"
      ],
      "execution_count": 0,
      "outputs": []
    },
    {
      "metadata": {
        "id": "1aavEFeE0HUK",
        "colab_type": "code",
        "colab": {
          "autoexec": {
            "startup": false,
            "wait_interval": 0
          },
          "base_uri": "https://localhost:8080/",
          "height": 204
        },
        "outputId": "aeb601e2-58a0-46b6-d163-b09ef17c2078",
        "executionInfo": {
          "status": "ok",
          "timestamp": 1523449591999,
          "user_tz": -330,
          "elapsed": 1163,
          "user": {
            "displayName": "Kushal Chauhan",
            "photoUrl": "//lh4.googleusercontent.com/-EhzMPZb6gTQ/AAAAAAAAAAI/AAAAAAAAHDk/-DzBUyWbk-E/s50-c-k-no/photo.jpg",
            "userId": "100716662372658252072"
          }
        }
      },
      "cell_type": "code",
      "source": [
        "sample.head()"
      ],
      "execution_count": 33,
      "outputs": [
        {
          "output_type": "execute_result",
          "data": {
            "text/html": [
              "<div>\n",
              "<style scoped>\n",
              "    .dataframe tbody tr th:only-of-type {\n",
              "        vertical-align: middle;\n",
              "    }\n",
              "\n",
              "    .dataframe tbody tr th {\n",
              "        vertical-align: top;\n",
              "    }\n",
              "\n",
              "    .dataframe thead th {\n",
              "        text-align: right;\n",
              "    }\n",
              "</style>\n",
              "<table border=\"1\" class=\"dataframe\">\n",
              "  <thead>\n",
              "    <tr style=\"text-align: right;\">\n",
              "      <th></th>\n",
              "      <th>id</th>\n",
              "      <th>label</th>\n",
              "    </tr>\n",
              "  </thead>\n",
              "  <tbody>\n",
              "    <tr>\n",
              "      <th>0</th>\n",
              "      <td>1</td>\n",
              "      <td>0.5</td>\n",
              "    </tr>\n",
              "    <tr>\n",
              "      <th>1</th>\n",
              "      <td>2</td>\n",
              "      <td>0.5</td>\n",
              "    </tr>\n",
              "    <tr>\n",
              "      <th>2</th>\n",
              "      <td>3</td>\n",
              "      <td>0.5</td>\n",
              "    </tr>\n",
              "    <tr>\n",
              "      <th>3</th>\n",
              "      <td>4</td>\n",
              "      <td>0.5</td>\n",
              "    </tr>\n",
              "    <tr>\n",
              "      <th>4</th>\n",
              "      <td>5</td>\n",
              "      <td>0.5</td>\n",
              "    </tr>\n",
              "  </tbody>\n",
              "</table>\n",
              "</div>"
            ],
            "text/plain": [
              "   id  label\n",
              "0   1    0.5\n",
              "1   2    0.5\n",
              "2   3    0.5\n",
              "3   4    0.5\n",
              "4   5    0.5"
            ]
          },
          "metadata": {
            "tags": []
          },
          "execution_count": 33
        }
      ]
    },
    {
      "metadata": {
        "id": "rYtyhWNwp_dE",
        "colab_type": "code",
        "colab": {
          "autoexec": {
            "startup": false,
            "wait_interval": 0
          }
        }
      },
      "cell_type": "code",
      "source": [
        "pred = model.predict(X_test)"
      ],
      "execution_count": 0,
      "outputs": []
    },
    {
      "metadata": {
        "id": "J3BtcKKArC3x",
        "colab_type": "code",
        "colab": {
          "autoexec": {
            "startup": false,
            "wait_interval": 0
          },
          "base_uri": "https://localhost:8080/",
          "height": 212
        },
        "outputId": "23620ddb-9185-4d49-afbc-8161ebb2aad1",
        "executionInfo": {
          "status": "ok",
          "timestamp": 1523450874727,
          "user_tz": -330,
          "elapsed": 2024,
          "user": {
            "displayName": "Kushal Chauhan",
            "photoUrl": "//lh4.googleusercontent.com/-EhzMPZb6gTQ/AAAAAAAAAAI/AAAAAAAAHDk/-DzBUyWbk-E/s50-c-k-no/photo.jpg",
            "userId": "100716662372658252072"
          }
        }
      },
      "cell_type": "code",
      "source": [
        "print(pred[:5])\n",
        "for i in range(5):\n",
        "  img = plt.imread('test/'+str(i+1)+'.jpg')\n",
        "  plt.subplot(1, 5, i+1)\n",
        "  plt.imshow(img)"
      ],
      "execution_count": 59,
      "outputs": [
        {
          "output_type": "stream",
          "text": [
            "[[0.62429214]\n",
            " [0.9999783 ]\n",
            " [0.9999883 ]\n",
            " [0.9999651 ]\n",
            " [0.00123634]]\n"
          ],
          "name": "stdout"
        },
        {
          "output_type": "display_data",
          "data": {
            "image/png": "[encoded data removed]",
            "text/plain": [
              "<matplotlib.figure.Figure at 0x7f814575ae10>"
            ]
          },
          "metadata": {
            "tags": []
          }
        }
      ]
    },
    {
      "metadata": {
        "id": "z77G7tLmsH19",
        "colab_type": "code",
        "colab": {
          "autoexec": {
            "startup": false,
            "wait_interval": 0
          },
          "base_uri": "https://localhost:8080/",
          "height": 102
        },
        "outputId": "24dc1451-18ac-487e-fcfd-5e01e07a7a58",
        "executionInfo": {
          "status": "ok",
          "timestamp": 1523450884645,
          "user_tz": -330,
          "elapsed": 1596,
          "user": {
            "displayName": "Kushal Chauhan",
            "photoUrl": "//lh4.googleusercontent.com/-EhzMPZb6gTQ/AAAAAAAAAAI/AAAAAAAAHDk/-DzBUyWbk-E/s50-c-k-no/photo.jpg",
            "userId": "100716662372658252072"
          }
        }
      },
      "cell_type": "code",
      "source": [
        "pred = np.insert(pred, 0, np.arange(1, m_test+1), axis=1)\n",
        "pred[:5]"
      ],
      "execution_count": 60,
      "outputs": [
        {
          "output_type": "execute_result",
          "data": {
            "text/plain": [
              "array([[1.0000000e+00, 6.2429214e-01],\n",
              "       [2.0000000e+00, 9.9997830e-01],\n",
              "       [3.0000000e+00, 9.9998832e-01],\n",
              "       [4.0000000e+00, 9.9996507e-01],\n",
              "       [5.0000000e+00, 1.2363390e-03]], dtype=float32)"
            ]
          },
          "metadata": {
            "tags": []
          },
          "execution_count": 60
        }
      ]
    },
    {
      "metadata": {
        "id": "FZ2akl500Ixr",
        "colab_type": "code",
        "colab": {
          "autoexec": {
            "startup": false,
            "wait_interval": 0
          }
        }
      },
      "cell_type": "code",
      "source": [
        "pred_df = pd.DataFrame(data=pred, columns=['id', 'label'], dtype='float32')"
      ],
      "execution_count": 0,
      "outputs": []
    },
    {
      "metadata": {
        "id": "0CYzSWJX3EJC",
        "colab_type": "code",
        "colab": {
          "autoexec": {
            "startup": false,
            "wait_interval": 0
          },
          "base_uri": "https://localhost:8080/",
          "height": 204
        },
        "outputId": "1546c21d-4edf-421a-ef73-cb448f2de8c6",
        "executionInfo": {
          "status": "ok",
          "timestamp": 1523450890134,
          "user_tz": -330,
          "elapsed": 835,
          "user": {
            "displayName": "Kushal Chauhan",
            "photoUrl": "//lh4.googleusercontent.com/-EhzMPZb6gTQ/AAAAAAAAAAI/AAAAAAAAHDk/-DzBUyWbk-E/s50-c-k-no/photo.jpg",
            "userId": "100716662372658252072"
          }
        }
      },
      "cell_type": "code",
      "source": [
        "pred_df.head()"
      ],
      "execution_count": 62,
      "outputs": [
        {
          "output_type": "execute_result",
          "data": {
            "text/html": [
              "<div>\n",
              "<style scoped>\n",
              "    .dataframe tbody tr th:only-of-type {\n",
              "        vertical-align: middle;\n",
              "    }\n",
              "\n",
              "    .dataframe tbody tr th {\n",
              "        vertical-align: top;\n",
              "    }\n",
              "\n",
              "    .dataframe thead th {\n",
              "        text-align: right;\n",
              "    }\n",
              "</style>\n",
              "<table border=\"1\" class=\"dataframe\">\n",
              "  <thead>\n",
              "    <tr style=\"text-align: right;\">\n",
              "      <th></th>\n",
              "      <th>id</th>\n",
              "      <th>label</th>\n",
              "    </tr>\n",
              "  </thead>\n",
              "  <tbody>\n",
              "    <tr>\n",
              "      <th>0</th>\n",
              "      <td>1.0</td>\n",
              "      <td>0.624292</td>\n",
              "    </tr>\n",
              "    <tr>\n",
              "      <th>1</th>\n",
              "      <td>2.0</td>\n",
              "      <td>0.999978</td>\n",
              "    </tr>\n",
              "    <tr>\n",
              "      <th>2</th>\n",
              "      <td>3.0</td>\n",
              "      <td>0.999988</td>\n",
              "    </tr>\n",
              "    <tr>\n",
              "      <th>3</th>\n",
              "      <td>4.0</td>\n",
              "      <td>0.999965</td>\n",
              "    </tr>\n",
              "    <tr>\n",
              "      <th>4</th>\n",
              "      <td>5.0</td>\n",
              "      <td>0.001236</td>\n",
              "    </tr>\n",
              "  </tbody>\n",
              "</table>\n",
              "</div>"
            ],
            "text/plain": [
              "    id     label\n",
              "0  1.0  0.624292\n",
              "1  2.0  0.999978\n",
              "2  3.0  0.999988\n",
              "3  4.0  0.999965\n",
              "4  5.0  0.001236"
            ]
          },
          "metadata": {
            "tags": []
          },
          "execution_count": 62
        }
      ]
    },
    {
      "metadata": {
        "id": "qDXw_mgg3GPC",
        "colab_type": "code",
        "colab": {
          "autoexec": {
            "startup": false,
            "wait_interval": 0
          },
          "base_uri": "https://localhost:8080/",
          "height": 204
        },
        "outputId": "ace38a7e-132d-41ec-a6d4-a11b81b3d285",
        "executionInfo": {
          "status": "ok",
          "timestamp": 1523450892105,
          "user_tz": -330,
          "elapsed": 970,
          "user": {
            "displayName": "Kushal Chauhan",
            "photoUrl": "//lh4.googleusercontent.com/-EhzMPZb6gTQ/AAAAAAAAAAI/AAAAAAAAHDk/-DzBUyWbk-E/s50-c-k-no/photo.jpg",
            "userId": "100716662372658252072"
          }
        }
      },
      "cell_type": "code",
      "source": [
        "pred_df['id'] = pred_df['id'].astype('int64')\n",
        "pred_df.head()"
      ],
      "execution_count": 63,
      "outputs": [
        {
          "output_type": "execute_result",
          "data": {
            "text/html": [
              "<div>\n",
              "<style scoped>\n",
              "    .dataframe tbody tr th:only-of-type {\n",
              "        vertical-align: middle;\n",
              "    }\n",
              "\n",
              "    .dataframe tbody tr th {\n",
              "        vertical-align: top;\n",
              "    }\n",
              "\n",
              "    .dataframe thead th {\n",
              "        text-align: right;\n",
              "    }\n",
              "</style>\n",
              "<table border=\"1\" class=\"dataframe\">\n",
              "  <thead>\n",
              "    <tr style=\"text-align: right;\">\n",
              "      <th></th>\n",
              "      <th>id</th>\n",
              "      <th>label</th>\n",
              "    </tr>\n",
              "  </thead>\n",
              "  <tbody>\n",
              "    <tr>\n",
              "      <th>0</th>\n",
              "      <td>1</td>\n",
              "      <td>0.624292</td>\n",
              "    </tr>\n",
              "    <tr>\n",
              "      <th>1</th>\n",
              "      <td>2</td>\n",
              "      <td>0.999978</td>\n",
              "    </tr>\n",
              "    <tr>\n",
              "      <th>2</th>\n",
              "      <td>3</td>\n",
              "      <td>0.999988</td>\n",
              "    </tr>\n",
              "    <tr>\n",
              "      <th>3</th>\n",
              "      <td>4</td>\n",
              "      <td>0.999965</td>\n",
              "    </tr>\n",
              "    <tr>\n",
              "      <th>4</th>\n",
              "      <td>5</td>\n",
              "      <td>0.001236</td>\n",
              "    </tr>\n",
              "  </tbody>\n",
              "</table>\n",
              "</div>"
            ],
            "text/plain": [
              "   id     label\n",
              "0   1  0.624292\n",
              "1   2  0.999978\n",
              "2   3  0.999988\n",
              "3   4  0.999965\n",
              "4   5  0.001236"
            ]
          },
          "metadata": {
            "tags": []
          },
          "execution_count": 63
        }
      ]
    },
    {
      "metadata": {
        "id": "ICbLzAyo38Ja",
        "colab_type": "code",
        "colab": {
          "autoexec": {
            "startup": false,
            "wait_interval": 0
          }
        }
      },
      "cell_type": "code",
      "source": [
        "pred_df.to_csv('submission.csv', index=False)"
      ],
      "execution_count": 0,
      "outputs": []
    },
    {
      "metadata": {
        "id": "8i7VThcXs28B",
        "colab_type": "code",
        "colab": {
          "autoexec": {
            "startup": false,
            "wait_interval": 0
          },
          "base_uri": "https://localhost:8080/",
          "height": 51
        },
        "outputId": "4627922b-2fa5-44b3-c721-cf8035fe2dc8",
        "executionInfo": {
          "status": "ok",
          "timestamp": 1523450903961,
          "user_tz": -330,
          "elapsed": 5420,
          "user": {
            "displayName": "Kushal Chauhan",
            "photoUrl": "//lh4.googleusercontent.com/-EhzMPZb6gTQ/AAAAAAAAAAI/AAAAAAAAHDk/-DzBUyWbk-E/s50-c-k-no/photo.jpg",
            "userId": "100716662372658252072"
          }
        }
      },
      "cell_type": "code",
      "source": [
        "!kaggle competitions submit -c dogs-vs-cats-redux-kernels-edition -f submission.csv -m \"10 Conv layers + 1 Dense\""
      ],
      "execution_count": 65,
      "outputs": [
        {
          "output_type": "stream",
          "text": [
            "Warning: Your Kaggle API key is readable by other users on this system! To fix this, you can run 'chmod 600 /content/.kaggle/kaggle.json'\r\n",
            "Successfully submitted to Dogs vs. Cats Redux: Kernels Edition"
          ],
          "name": "stdout"
        }
      ]
    },
    {
      "metadata": {
        "id": "tA5ilnktwinp",
        "colab_type": "text"
      },
      "cell_type": "markdown",
      "source": [
        "Kaggle Test Score = 0.28331"
      ]
    },
    {
      "metadata": {
        "id": "9qTqvsAtu6lV",
        "colab_type": "code",
        "colab": {
          "autoexec": {
            "startup": false,
            "wait_interval": 0
          }
        }
      },
      "cell_type": "code",
      "source": [
        ""
      ],
      "execution_count": 0,
      "outputs": []
    }
  ]
}